{
 "cells": [
  {
   "cell_type": "markdown",
   "metadata": {},
   "source": [
    "## Tutorial on chemical reaction network (CRN) inference"
   ]
  },
  {
   "cell_type": "markdown",
   "metadata": {},
   "source": [
    "### Simulating a CRN\n",
    "\n",
    "Fisrt, we simulate a synthetic dataset based on the following CRN, i.e. our ground truth CRN:\n",
    "$$ X_1\\xrightarrow[]{k_{1}}X_2 \\\\ X_1+X_2\\xrightleftharpoons[k_{13}]{k_{18}}X_3.$$\n",
    "The subscripts of the reaction rate constants will be explained later when we introduce the library CRN.\n",
    "\n",
    "The `@reaction_network` macro from `Catalyst.jl` enables us to programatically define CRNs. Note that package imports and first calls to functions take longer times to run due to compilation."
   ]
  },
  {
   "cell_type": "code",
   "execution_count": 1,
   "metadata": {},
   "outputs": [],
   "source": [
    "using Catalyst"
   ]
  },
  {
   "cell_type": "code",
   "execution_count": 2,
   "metadata": {},
   "outputs": [
    {
     "data": {
      "text/latex": [
       "$$ \\begin{align*}\n",
       "\\mathrm{\\mathtt{X1}} &\\xrightarrow{\\mathtt{k1}} \\mathrm{\\mathtt{X2}} \\\\\n",
       "\\mathrm{\\mathtt{X1}} + \\mathrm{\\mathtt{X2}} &\\xrightleftharpoons[\\mathtt{k13}]{\\mathtt{k18}} \\mathrm{\\mathtt{X3}}  \n",
       " \\end{align*}\n",
       " $$"
      ],
      "text/plain": [
       "\u001b[0m\u001b[1mModel ##ReactionSystem#236:\u001b[22m\n",
       "\u001b[0m\u001b[1mUnknowns (3):\u001b[22m see unknowns(##ReactionSystem#236)\n",
       "  X1(t)\n",
       "  X2(t)\n",
       "  X3(t)\n",
       "\u001b[0m\u001b[1mParameters (3):\u001b[22m see parameters(##ReactionSystem#236)\n",
       "  k1\n",
       "  k18\n",
       "  k13"
      ]
     },
     "metadata": {},
     "output_type": "display_data"
    }
   ],
   "source": [
    "true_rn = @reaction_network begin\n",
    "\tk1, X1 --> X2                # unidirectional reaction\n",
    "\t(k18, k13), X1 + X2 <--> X3\t # birectional reaction\n",
    "end\n"
   ]
  },
  {
   "cell_type": "markdown",
   "metadata": {},
   "source": [
    "`Catalyst.jl` features functionality to automatically derive the corresponding ordinary differential equation (ODE) system (assuming mass-action kinetics)."
   ]
  },
  {
   "cell_type": "code",
   "execution_count": 3,
   "metadata": {},
   "outputs": [
    {
     "data": {
      "text/latex": [
       "$$ \\begin{align}\n",
       "\\frac{\\mathrm{d} \\mathtt{X1}\\left( t \\right)}{\\mathrm{d}t} &=  - \\mathtt{k1} \\mathtt{X1}\\left( t \\right) + \\mathtt{k13} \\mathtt{X3}\\left( t \\right) - \\mathtt{k18} \\mathtt{X1}\\left( t \\right) \\mathtt{X2}\\left( t \\right) \\\\\n",
       "\\frac{\\mathrm{d} \\mathtt{X2}\\left( t \\right)}{\\mathrm{d}t} &= \\mathtt{k1} \\mathtt{X1}\\left( t \\right) + \\mathtt{k13} \\mathtt{X3}\\left( t \\right) - \\mathtt{k18} \\mathtt{X1}\\left( t \\right) \\mathtt{X2}\\left( t \\right) \\\\\n",
       "\\frac{\\mathrm{d} \\mathtt{X3}\\left( t \\right)}{\\mathrm{d}t} &=  - \\mathtt{k13} \\mathtt{X3}\\left( t \\right) + \\mathtt{k18} \\mathtt{X1}\\left( t \\right) \\mathtt{X2}\\left( t \\right)\n",
       "\\end{align}\n",
       " $$"
      ],
      "text/plain": [
       "\u001b[0m\u001b[1mModel ##ReactionSystem#236:\u001b[22m\n",
       "\u001b[0m\u001b[1mEquations (3):\u001b[22m\n",
       "  3 standard: see equations(##ReactionSystem#236)\n",
       "\u001b[0m\u001b[1mUnknowns (3):\u001b[22m see unknowns(##ReactionSystem#236)\n",
       "  X1(t)\n",
       "  X2(t)\n",
       "  X3(t)\n",
       "\u001b[0m\u001b[1mParameters (3):\u001b[22m see parameters(##ReactionSystem#236)\n",
       "  k1\n",
       "  k18\n",
       "  k13"
      ]
     },
     "metadata": {},
     "output_type": "display_data"
    }
   ],
   "source": [
    "convert(ODESystem, true_rn)"
   ]
  },
  {
   "cell_type": "markdown",
   "metadata": {},
   "source": [
    "To simulate the dynamics of this ODE system, say over $t\\in[0,10]$, we need to define and solve an `ODEProblem`. We will use the initial values $(X_1(0), X_2(0), X_3(0)) = (0,0,1)$ and set the reaction rate constants as $(k_{1},k_{13},k_{18})=(0,0,1)$."
   ]
  },
  {
   "cell_type": "code",
   "execution_count": 4,
   "metadata": {},
   "outputs": [],
   "source": [
    "using DifferentialEquations"
   ]
  },
  {
   "cell_type": "code",
   "execution_count": 6,
   "metadata": {},
   "outputs": [
    {
     "ename": "UndefVarError",
     "evalue": "UndefVarError: `x0map` not defined in `Main`\nSuggestion: check for spelling errors or missing imports.",
     "output_type": "error",
     "traceback": [
      "UndefVarError: `x0map` not defined in `Main`\n",
      "Suggestion: check for spelling errors or missing imports.\n",
      "\n",
      "Stacktrace:\n",
      " [1] top-level scope\n",
      "   @ ~/phd/crn-inference/crn_inference_tutorial.ipynb:1"
     ]
    }
   ],
   "source": [
    "t_span = (0., 10.); # time interval to solve on\n",
    "x0map = [:X1 => 0., :X2 => 0., :X3 => 1.]; # initial conditions.\n",
    "oprob = ODEProblem(true_rn, x0map, t_span, kmap);"
   ]
  },
  {
   "cell_type": "code",
   "execution_count": null,
   "metadata": {},
   "outputs": [],
   "source": []
  },
  {
   "cell_type": "markdown",
   "metadata": {},
   "source": [
    "### Defining a library CRN"
   ]
  },
  {
   "cell_type": "markdown",
   "metadata": {},
   "source": [
    "### Parameter estimation"
   ]
  },
  {
   "cell_type": "markdown",
   "metadata": {},
   "source": [
    "### Reaction network inference"
   ]
  },
  {
   "cell_type": "markdown",
   "metadata": {},
   "source": [
    "### Hyperparameter tuning"
   ]
  },
  {
   "cell_type": "markdown",
   "metadata": {},
   "source": [
    "### Alternative penalty function"
   ]
  },
  {
   "cell_type": "markdown",
   "metadata": {},
   "source": []
  }
 ],
 "metadata": {
  "kernelspec": {
   "display_name": "Julia 1.11.2",
   "language": "julia",
   "name": "julia-1.11"
  },
  "language_info": {
   "file_extension": ".jl",
   "mimetype": "application/julia",
   "name": "julia",
   "version": "1.11.2"
  }
 },
 "nbformat": 4,
 "nbformat_minor": 2
}
